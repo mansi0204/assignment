{
  "nbformat": 4,
  "nbformat_minor": 0,
  "metadata": {
    "colab": {
      "name": "Assignment 2",
      "provenance": []
    },
    "kernelspec": {
      "name": "python3",
      "display_name": "Python 3"
    },
    "language_info": {
      "name": "python"
    }
  },
  "cells": [
    {
      "cell_type": "code",
      "metadata": {
        "colab": {
          "base_uri": "https://localhost:8080/"
        },
        "id": "HOmLA7Ft4MC2",
        "outputId": "ffa11827-ea1e-422d-ce50-c9a4e7b3f904"
      },
      "source": [
        "class Complex:\n",
        "  \n",
        "  first = complex(input('Enter first complex number: '))\n",
        "  second = complex(input('Enter first complex number: '))\n",
        "\n",
        "  def add(self):\n",
        "    addition = self.first + self.second\n",
        "    print('SUM = ', addition)\n",
        "\n",
        "  def sub(self):\n",
        "    difference = self.first - self.second\n",
        "    print('difference = ', difference)\n",
        "\n",
        "  def pro(self):\n",
        "    product = self.first * self.second\n",
        "    print('product = ', product)\n",
        "\n",
        "  \n",
        "\n",
        "a1=Complex()\n",
        "a1.add()\n",
        "a1.sub()\n",
        "a1.pro()"
      ],
      "execution_count": 15,
      "outputs": [
        {
          "output_type": "stream",
          "name": "stdout",
          "text": [
            "Enter first complex number: 5+4j\n",
            "Enter first complex number: 4+3j\n",
            "SUM =  (9+7j)\n",
            "difference =  (1+1j)\n",
            "product =  (8+31j)\n"
          ]
        }
      ]
    },
    {
      "cell_type": "code",
      "metadata": {
        "id": "U2tAMCdx7AuA"
      },
      "source": [
        ""
      ],
      "execution_count": null,
      "outputs": []
    }
  ]
}